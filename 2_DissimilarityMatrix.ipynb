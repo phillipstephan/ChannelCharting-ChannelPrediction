{
 "cells": [
  {
   "cell_type": "markdown",
   "id": "e52d338c-6919-4b73-98d8-0158c2f482f4",
   "metadata": {},
   "source": [
    "# Compute Fused Dissimilarity Matrix\n",
    "Compute geodesic fused angle-delay profile (ADP) / timestamp dissimilarity matrix."
   ]
  },
  {
   "cell_type": "markdown",
   "id": "e870cbea-46cf-4f2a-99f5-f6a24ec4c2bc",
   "metadata": {},
   "source": [
    "## Imports"
   ]
  },
  {
   "cell_type": "code",
   "execution_count": 1,
   "id": "0eeabd91-dbae-419c-9007-64c201325893",
   "metadata": {},
   "outputs": [],
   "source": [
    "import os\n",
    "os.environ['TF_CPP_MIN_LOG_LEVEL'] = '3'\n",
    "\n",
    "import multiprocessing as mp\n",
    "import scipy.sparse.csgraph\n",
    "import sklearn.neighbors\n",
    "import tensorflow as tf\n",
    "import scipy.spatial\n",
    "import matplotlib.pyplot as plt\n",
    "import numpy as np\n",
    "import tqdm"
   ]
  },
  {
   "cell_type": "markdown",
   "id": "d5177ea9-6942-4f6b-afdd-8be1e741bf7a",
   "metadata": {},
   "source": [
    "## Training Set"
   ]
  },
  {
   "cell_type": "code",
   "execution_count": 2,
   "id": "3a0b219b-18a3-48a7-a054-0f95c819878b",
   "metadata": {},
   "outputs": [],
   "source": [
    "# time domain CSI\n",
    "csi_time_domain = np.load('dataset/csi_time_domain_train.npy')\n",
    "\n",
    "# timestamps\n",
    "timestamps = np.load('dataset/timestamps_train.npy')\n",
    "\n",
    "# groundtruth positions\n",
    "groundtruth_positions = np.load('dataset/groundtruth_positions_train.npy')"
   ]
  },
  {
   "cell_type": "markdown",
   "id": "2323add4-59f8-422d-b396-39eedf539f2d",
   "metadata": {},
   "source": [
    "## Dissimilarity Metrics and Dissimilarity Matrix Computation"
   ]
  },
  {
   "cell_type": "markdown",
   "id": "dd029ddd-29ef-4aea-a936-f98225c8ba35",
   "metadata": {},
   "source": [
    "### Step 1: ADP-based dissimilarity matrix"
   ]
  },
  {
   "cell_type": "code",
   "execution_count": 3,
   "id": "b18f625e-972e-4ba5-8000-b1cf1f75f71c",
   "metadata": {},
   "outputs": [
    {
     "name": "stderr",
     "output_type": "stream",
     "text": [
      "100%|██████████| 433763929/433763929 [01:39<00:00, 4343413.19it/s]\n"
     ]
    }
   ],
   "source": [
    "adp_dissimilarity_matrix = np.zeros((csi_time_domain.shape[0], csi_time_domain.shape[0]), dtype=np.float32)\n",
    "\n",
    "def adp_dissimilarities_worker(todo_queue, output_queue):\n",
    "    def adp_dissimilarities(index):\n",
    "        # h has shape (arrays, antenna rows, antenna columns, taps), w has shape (datapoints, arrays, antenna rows, antenna columns, taps)\n",
    "        h = csi_time_domain[index]\n",
    "        w = csi_time_domain[index:]\n",
    "\n",
    "        dotproducts = np.abs(np.einsum(\"brmt,lbrmt->lbt\", np.conj(h), w))**2\n",
    "        norms = np.real(np.einsum(\"brmt,brmt->bt\", h, np.conj(h)) * np.einsum(\"lbrmt,lbrmt->lbt\", w, np.conj(w)))\n",
    "        \n",
    "        return np.sum(1 - dotproducts / norms, axis = (1, 2))\n",
    "\n",
    "    while True:\n",
    "        index = todo_queue.get()\n",
    "\n",
    "        if index == -1:\n",
    "            output_queue.put((-1, None))\n",
    "            break\n",
    "        \n",
    "        output_queue.put((index, adp_dissimilarities(index)))\n",
    "\n",
    "with tqdm.tqdm(total = csi_time_domain.shape[0]**2) as bar:\n",
    "    todo_queue = mp.Queue()\n",
    "    output_queue = mp.Queue()\n",
    "\n",
    "    for i in range(csi_time_domain.shape[0]):\n",
    "        todo_queue.put(i)\n",
    "    \n",
    "    for i in range(mp.cpu_count()):\n",
    "        todo_queue.put(-1)\n",
    "        p = mp.Process(target = adp_dissimilarities_worker, args = (todo_queue, output_queue))\n",
    "        p.start()\n",
    "\n",
    "    finished_processes = 0\n",
    "    while finished_processes != mp.cpu_count():\n",
    "        i, d = output_queue.get()\n",
    "\n",
    "        if i == -1:\n",
    "            finished_processes = finished_processes + 1\n",
    "        else:\n",
    "            adp_dissimilarity_matrix[i,i:] = d\n",
    "            adp_dissimilarity_matrix[i:,i] = d\n",
    "            bar.update(2 * len(d) - 1)"
   ]
  },
  {
   "cell_type": "markdown",
   "id": "e90c51df-55f5-4438-bb5d-848a522163ec",
   "metadata": {},
   "source": [
    "### Step 2: Timestamp-based dissimilarity matrix"
   ]
  },
  {
   "cell_type": "code",
   "execution_count": 4,
   "id": "54929cab-7bf5-40cb-8cd3-a6ccc49bbb85",
   "metadata": {},
   "outputs": [],
   "source": [
    "# Compute timestamp-based dissimilarity matrix\n",
    "timestamp_dissimilarity_matrix = np.abs(np.subtract.outer(timestamps, timestamps))"
   ]
  },
  {
   "cell_type": "markdown",
   "id": "67c37817-a709-4fbd-b97a-a05f7f3c151a",
   "metadata": {},
   "source": [
    "### Step 3: Fusing $\\mathbf D_\\mathrm{ADP}$ with $\\mathbf D_\\mathrm{time}$"
   ]
  },
  {
   "cell_type": "code",
   "execution_count": 5,
   "id": "d44a378a-a58f-4867-8e14-539d21b5d360",
   "metadata": {},
   "outputs": [],
   "source": [
    "TIME_THRESHOLD = 2\n",
    "small_time_dissimilarity_indices = np.logical_and(timestamp_dissimilarity_matrix < TIME_THRESHOLD, timestamp_dissimilarity_matrix > 0)\n",
    "small_time_dissimilarities = timestamp_dissimilarity_matrix[small_time_dissimilarity_indices]\n",
    "small_adp_dissimilarities = adp_dissimilarity_matrix[small_time_dissimilarity_indices]\n",
    "\n",
    "occurences, edges = np.histogram(small_adp_dissimilarities / small_time_dissimilarities, range = (0, 50), bins = 1500)"
   ]
  },
  {
   "cell_type": "code",
   "execution_count": 6,
   "id": "2659b2fc-394a-403f-8790-209b91d961d3",
   "metadata": {},
   "outputs": [],
   "source": [
    "bin_centers = edges[:-1] + np.diff(edges) / 2.\n",
    "max_bin = np.argmax(occurences)\n",
    "min_threshold = np.quantile(occurences[:max_bin], 0.5)\n",
    "\n",
    "for threshold_bin in range(max_bin - 1, -1, -1):\n",
    "    if occurences[threshold_bin] < min_threshold:\n",
    "        break\n",
    "\n",
    "scaling_factor = bin_centers[threshold_bin]"
   ]
  },
  {
   "cell_type": "code",
   "execution_count": 7,
   "id": "6e6b3780-238d-4f2b-b88b-4b162feabfcb",
   "metadata": {},
   "outputs": [],
   "source": [
    "# Fuse ADP-based and time-based dissimilarity matrices\n",
    "dissimilarity_matrix_fused = np.minimum(adp_dissimilarity_matrix, timestamp_dissimilarity_matrix * scaling_factor)"
   ]
  },
  {
   "cell_type": "markdown",
   "id": "bdca4a35-7f73-48e3-8f40-c62afa873b42",
   "metadata": {},
   "source": [
    "### Step 4: Geodesic Dissimilarity Matrix"
   ]
  },
  {
   "cell_type": "code",
   "execution_count": 8,
   "id": "32b34306-0c96-46ef-94e9-e7bed2d7beb4",
   "metadata": {},
   "outputs": [],
   "source": [
    "n_neighbors = 20\n",
    "\n",
    "nbrs_alg = sklearn.neighbors.NearestNeighbors(n_neighbors = n_neighbors, metric=\"precomputed\", n_jobs = -1)\n",
    "nbrs = nbrs_alg.fit(dissimilarity_matrix_fused)\n",
    "nbg = sklearn.neighbors.kneighbors_graph(nbrs, n_neighbors, metric = \"precomputed\", mode=\"distance\")"
   ]
  },
  {
   "cell_type": "code",
   "execution_count": 9,
   "id": "a6150477-9dcc-4abc-b667-03bb0cad53bb",
   "metadata": {},
   "outputs": [
    {
     "name": "stderr",
     "output_type": "stream",
     "text": [
      "100%|██████████| 433763929/433763929 [00:33<00:00, 12820047.39it/s] \n"
     ]
    }
   ],
   "source": [
    "dissimilarity_matrix_geodesic = np.zeros((nbg.shape[0], nbg.shape[1]), dtype = np.float32)\n",
    "\n",
    "def shortest_path_worker(todo_queue, output_queue):\n",
    "    while True:\n",
    "        index = todo_queue.get()\n",
    "\n",
    "        if index == -1:\n",
    "            output_queue.put((-1, None))\n",
    "            break\n",
    "\n",
    "        d = scipy.sparse.csgraph.dijkstra(nbg, directed=False, indices=index)\n",
    "        output_queue.put((index, d))\n",
    "\n",
    "with tqdm.tqdm(total = nbg.shape[0]**2) as bar:\n",
    "    todo_queue = mp.Queue()\n",
    "    output_queue = mp.Queue()\n",
    "\n",
    "    for i in range(nbg.shape[0]):\n",
    "        todo_queue.put(i)\n",
    "    \n",
    "    for i in range(mp.cpu_count()):\n",
    "        todo_queue.put(-1)\n",
    "        p = mp.Process(target = shortest_path_worker, args = (todo_queue, output_queue))\n",
    "        p.start()\n",
    "\n",
    "    finished_processes = 0\n",
    "    while finished_processes != mp.cpu_count():\n",
    "        i, d = output_queue.get()\n",
    "\n",
    "        if i == -1:\n",
    "            finished_processes = finished_processes + 1\n",
    "        else:\n",
    "            dissimilarity_matrix_geodesic[i,:] = d\n",
    "            bar.update(len(d))"
   ]
  },
  {
   "cell_type": "code",
   "execution_count": 10,
   "id": "17ea3577-6d31-430c-8799-bb97fdb2780e",
   "metadata": {},
   "outputs": [],
   "source": [
    "np.save(\"results/dissimilarity_matrix_geodesic.npy\", dissimilarity_matrix_geodesic)"
   ]
  },
  {
   "cell_type": "markdown",
   "id": "4ea61e3b-945b-4e57-89a6-6b043f70d304",
   "metadata": {},
   "source": [
    "# Evaluation"
   ]
  },
  {
   "cell_type": "code",
   "execution_count": 11,
   "id": "413a9df4-405c-4e3b-afdb-0364ccb703bd",
   "metadata": {},
   "outputs": [],
   "source": [
    "# Compute distances between groundtruth positions\n",
    "groundtruth_distance_matrix = scipy.spatial.distance_matrix(groundtruth_positions, groundtruth_positions)"
   ]
  },
  {
   "cell_type": "code",
   "execution_count": 12,
   "id": "f469b813-501d-4c28-82ea-4dde4636c4ab",
   "metadata": {},
   "outputs": [
    {
     "data": {
      "image/png": "[encoded data removed]",
      "text/plain": [
       "<Figure size 800x400 with 1 Axes>"
      ]
     },
     "metadata": {},
     "output_type": "display_data"
    }
   ],
   "source": [
    "def plot_dissimilarity_over_euclidean_distance(dissimilarity_matrix, distance_matrix, label = None):\n",
    "\tnth_reduction = 10\n",
    "\tdissimilarities_flat = dissimilarity_matrix[::nth_reduction, ::nth_reduction].flatten()\n",
    "\tdistances_flat = distance_matrix[::nth_reduction, ::nth_reduction].flatten()\n",
    "\t\n",
    "\tmax_distance = np.max(distances_flat)\n",
    "\tbins = np.linspace(0, max_distance, 100)\n",
    "\tbin_indices = np.digitize(distances_flat, bins)\n",
    "\t\n",
    "\tbin_medians = np.zeros(len(bins) - 1)\n",
    "\tbin_25_perc = np.zeros(len(bins) - 1)\n",
    "\tbin_75_perc = np.zeros(len(bins) - 1)\n",
    "\tfor i in range(1, len(bins)):\n",
    "\t\tbin_values = dissimilarities_flat[bin_indices == i]\n",
    "\t\tbin_25_perc[i - 1], bin_medians[i - 1], bin_75_perc[i - 1] = np.percentile(bin_values, [25, 50, 75])\n",
    "\t\n",
    "\tplt.plot(bins[:-1], bin_medians, label = label)\n",
    "\tplt.fill_between(bins[:-1], bin_25_perc, bin_75_perc, alpha=0.5)\n",
    "\t\n",
    "plt.figure(figsize=(8,4))\n",
    "\n",
    "plot_dissimilarity_over_euclidean_distance(dissimilarity_matrix_geodesic, groundtruth_distance_matrix, \"G-fuse\")\n",
    "plot_dissimilarity_over_euclidean_distance(scaling_factor * adp_dissimilarity_matrix, groundtruth_distance_matrix, \"ADP\")\n",
    "\n",
    "plt.legend()\n",
    "plt.xlabel(\"Euclidean Distance [m]\")\n",
    "plt.ylabel(\"Scaled Dissimilarity\")\n",
    "plt.show()"
   ]
  }
 ],
 "metadata": {
  "kernelspec": {
   "display_name": "Python 3 (ipykernel)",
   "language": "python",
   "name": "python3"
  },
  "language_info": {
   "codemirror_mode": {
    "name": "ipython",
    "version": 3
   },
   "file_extension": ".py",
   "mimetype": "text/x-python",
   "name": "python",
   "nbconvert_exporter": "python",
   "pygments_lexer": "ipython3",
   "version": "3.11.7"
  }
 },
 "nbformat": 4,
 "nbformat_minor": 5
}
