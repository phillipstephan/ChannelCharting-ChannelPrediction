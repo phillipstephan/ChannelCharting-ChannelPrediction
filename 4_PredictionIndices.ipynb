{
 "cells": [
  {
   "cell_type": "markdown",
   "id": "e52d338c-6919-4b73-98d8-0158c2f482f4",
   "metadata": {},
   "source": [
    "# Determine Indices for Training and Prediction"
   ]
  },
  {
   "cell_type": "markdown",
   "id": "5f21796c-434d-4474-8187-9776c9da2bc5",
   "metadata": {},
   "source": [
    "## Imports"
   ]
  },
  {
   "cell_type": "code",
   "execution_count": 1,
   "id": "5528e461-1032-4183-98d1-927b40fcbe38",
   "metadata": {},
   "outputs": [],
   "source": [
    "import numpy as np"
   ]
  },
  {
   "cell_type": "markdown",
   "id": "d24d5422-b19c-4d13-b99f-b2a187391dba",
   "metadata": {},
   "source": [
    "## Datset"
   ]
  },
  {
   "cell_type": "code",
   "execution_count": 2,
   "id": "137656e7-8de6-416c-b965-c49704510066",
   "metadata": {},
   "outputs": [],
   "source": [
    "timestamps_train = np.load('dataset/timestamps_train.npy')\n",
    "timestamps_pred = np.load('dataset/timestamps_pred.npy')"
   ]
  },
  {
   "cell_type": "markdown",
   "id": "95b430bb-2572-4c4d-bd30-046f7a399a0b",
   "metadata": {},
   "source": [
    "## Determine Indices of Consecutive Samples"
   ]
  },
  {
   "cell_type": "code",
   "execution_count": 3,
   "id": "f07bcd53-2437-4440-9730-d420c1ee8e6e",
   "metadata": {},
   "outputs": [],
   "source": [
    "k_max = 25 # l-k, ..., l\n",
    "p_max = 25 # l + p"
   ]
  },
  {
   "cell_type": "code",
   "execution_count": 4,
   "id": "7c7297a8-21aa-41c3-8dd4-d79054180aef",
   "metadata": {},
   "outputs": [],
   "source": [
    "index_list_train = np.round((timestamps_train-timestamps_train[0])/(4*0.048)).astype(int)\n",
    "index_list_pred = np.round((timestamps_pred-timestamps_pred[0])/(4*0.048)).astype(int)"
   ]
  },
  {
   "cell_type": "code",
   "execution_count": 5,
   "id": "7cd328c2-bf19-44e8-8013-f8e4b2383fd4",
   "metadata": {},
   "outputs": [],
   "source": [
    "omit_indices_train = []\n",
    "for l in range(k_max+p_max-1,index_list_train.shape[0]):\n",
    "    if (index_list_train[l] - index_list_train[l-p_max] != p_max) or (index_list_train[l] - index_list_train[l-p_max-k_max+1] != p_max+k_max-1):\n",
    "        omit_indices_train.append(l)\n",
    "\n",
    "omit_indices_pred = []\n",
    "for l in range(k_max+p_max-1,index_list_pred.shape[0]):\n",
    "    if (index_list_pred[l] - index_list_pred[l-p_max] != p_max) or (index_list_pred[l] - index_list_pred[l-p_max-k_max+1] != p_max+k_max-1):\n",
    "        omit_indices_pred.append(l)"
   ]
  },
  {
   "cell_type": "code",
   "execution_count": 6,
   "id": "b335c04a-6728-41f4-bab7-7be7987e4652",
   "metadata": {},
   "outputs": [],
   "source": [
    "training_indices = []\n",
    "for l in range(k_max+p_max-1,timestamps_train.shape[0]):\n",
    "    if (l not in omit_indices_train):\n",
    "        training_indices.append(np.linspace(l-k_max-p_max+1,l,k_max+p_max,dtype=int))\n",
    "training_indices = np.asarray(training_indices)\n",
    "\n",
    "prediction_indices = []\n",
    "for l in range(k_max+p_max-1,timestamps_pred.shape[0]):\n",
    "    if (l not in omit_indices_pred):\n",
    "        prediction_indices.append(np.linspace(l-k_max-p_max+1,l,k_max+p_max,dtype=int))\n",
    "prediction_indices = np.asarray(prediction_indices)"
   ]
  },
  {
   "cell_type": "code",
   "execution_count": 7,
   "id": "bfa8b053-40d7-4c46-a711-ea05361242fd",
   "metadata": {},
   "outputs": [],
   "source": [
    "np.save('dataset/training_indices.npy',training_indices)\n",
    "np.save('dataset/prediction_indices.npy',prediction_indices)"
   ]
  }
 ],
 "metadata": {
  "kernelspec": {
   "display_name": "Python 3 (ipykernel)",
   "language": "python",
   "name": "python3"
  },
  "language_info": {
   "codemirror_mode": {
    "name": "ipython",
    "version": 3
   },
   "file_extension": ".py",
   "mimetype": "text/x-python",
   "name": "python",
   "nbconvert_exporter": "python",
   "pygments_lexer": "ipython3",
   "version": "3.11.7"
  }
 },
 "nbformat": 4,
 "nbformat_minor": 5
}
